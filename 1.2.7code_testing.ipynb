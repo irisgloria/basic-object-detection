{
 "cells": [
  {
   "cell_type": "markdown",
   "metadata": {
    "collapsed": false
   },
   "source": [
    "## 将字符串转化成小写字母\n",
    "\n",
    "实现函数 ToLowerCase()，该函数接收一个字符串参数 str，并将该字符串中的大写字母转换成小写字母，之后返回新的字符串。"
   ]
  },
  {
   "cell_type": "code",
   "execution_count": null,
   "metadata": {
    "collapsed": false
   },
   "outputs": [
    {
     "name": "stdout",
     "output_type": "stream",
     "text": [
      "转换之前HELLO\n",
      "转换之后hello\n"
     ]
    }
   ],
   "source": [
    "def toLowerCase(str: str):\n",
    "    #Put you anwser here\n",
    "    return str.lower()\n",
    "\n",
    "# 输出内容\n",
    "A = 'HELLO'\n",
    "a = toLowerCase(A)\n",
    "print(f\"转换之前{A}\")\n",
    "print(f\"转换之后{a}\")"
   ]
  },
  {
   "cell_type": "markdown",
   "metadata": {
    "collapsed": false
   },
   "source": [
    "## 反转字符串中的单词\n",
    "\n",
    "给定一个字符串，你需要反转字符串中每个单词的字符顺序，同时仍保留空格和单词的初始顺序。\n",
    "\n",
    "示例 1:\n",
    "\n",
    "> 输入: \"Let's take deep learning contest\"\n",
    "\n",
    "> 输出: \"s'teL ekat peed gninrael tsetnoc\"\n",
    "\n"
   ]
  },
  {
   "cell_type": "code",
   "execution_count": null,
   "metadata": {
    "collapsed": false
   },
   "outputs": [
    {
     "name": "stdout",
     "output_type": "stream",
     "text": [
      "反转之前: Let's take deep learning contest\n",
      "反转之后: s'teLekatpeedgninraeltsetnoc\n"
     ]
    }
   ],
   "source": [
    "def reverseWords(s: str):\n",
    "    #Put you anwser here\n",
    "    words = s.split()\n",
    "    reverse_word = [word[::-1] for word in words]\n",
    "    str = ''.join(reverse_word)\n",
    "    return str\n",
    "\n",
    "# 输出内容\n",
    "input = \"Let's take deep learning contest\"\n",
    "output = reverseWords(input)\n",
    "print(f\"反转之前: {input}\")\n",
    "print(f\"反转之后: {output}\")"
   ]
  },
  {
   "cell_type": "markdown",
   "metadata": {
    "collapsed": false
   },
   "source": [
    "## 排列组合\n",
    "\n",
    "有四个数字：1、2、3、4，能组成多少个互不相同且无重复数字的三位数？各是多少？"
   ]
  },
  {
   "cell_type": "code",
   "execution_count": null,
   "metadata": {
    "collapsed": false
   },
   "outputs": [
    {
     "name": "stdout",
     "output_type": "stream",
     "text": [
      "输入数据: [1, 2, 3, 4]\n",
      "排列组合数量: 24\n",
      "排列组合分别为: ['123', '124', '132', '134', '142', '143', '213', '214', '231', '234', '241', '243', '312', '314', '321', '324', '341', '342', '412', '413', '421', '423', '431', '432']\n"
     ]
    }
   ],
   "source": [
    "def Permutation(input_num):\n",
    "    list = []\n",
    "    #Code goes here\n",
    "    # 如range(3)等价于range(0,3),表示创建0-3的数组\n",
    "    for i in range(len(input_num)):   \n",
    "        for j in range(len(input_num)):\n",
    "            if i == j:    # 如果两个数相等则跳过\n",
    "                continue  \n",
    "            for k in range(len(input_num)):\n",
    "                if k == i or k == j:\n",
    "                    continue\n",
    "                list.append(str(input_num[i])+str(input_num[j])+str(input_num[k]))\n",
    "    return list\n",
    "\n",
    "# 输出内容\n",
    "input = [1, 2, 3, 4]\n",
    "output = Permutation(input)\n",
    "out_len = len(output)\n",
    "print(f\"输入数据: {input}\")\n",
    "print(f\"排列组合数量: {out_len}\")\n",
    "print(f\"排列组合分别为: {output}\")"
   ]
  },
  {
   "cell_type": "markdown",
   "metadata": {
    "collapsed": false
   },
   "source": [
    "## 阶乘\n",
    "让函数FirstFactorial（num）接受传递的num参数并返回它的阶乘。例如：如果num = 4，则程序应返回（4 * 3 * 2 * 1）= 24.对于测试用例，范围将介于1和18之间，输入将始终为整数"
   ]
  },
  {
   "cell_type": "code",
   "execution_count": null,
   "metadata": {
    "collapsed": false
   },
   "outputs": [
    {
     "name": "stdout",
     "output_type": "stream",
     "text": [
      "7的阶乘是720\n"
     ]
    }
   ],
   "source": [
    "def FirstFactorial(num): \n",
    "    output = 1\n",
    "    for i in range(1, num):\n",
    "        output *= i\n",
    "    return output\n",
    "    \n",
    "# keep this function call here \n",
    "input = 7\n",
    "output = FirstFactorial(int(input))\n",
    "print(f'{input}的阶乘是{output}')"
   ]
  },
  {
   "cell_type": "markdown",
   "metadata": {
    "collapsed": false
   },
   "source": [
    "## 整型转罗马数字\n",
    "\n",
    "罗马数字 3 写做 III ，即为3个并列的 1。12 写做 XII ，即为 X + II 。 26 写做  XXVI, 即为 XX + V + I 。\n",
    "也有一些特例, 例如4, 可以放到V的左边, IV表示4. \n",
    "\n",
    "要将整数转换为罗马数字，我们需要理解罗马数字的构成规则。罗马数字使用特定的字符表示数字，并且这些字符可以按照一定的规则组合。每个数字有一个对应的罗马数字符号，例如：\n",
    "1 = I\n",
    "4 = IV\n",
    "5 = V\n",
    "9 = IX\n",
    "10 = X\n",
    "40 = XL\n",
    "50 = L\n",
    "90 = XC\n",
    "100 = C\n",
    "400 = CD\n",
    "500 = D\n",
    "900 = CM\n",
    "1000 = M"
   ]
  },
  {
   "cell_type": "code",
   "execution_count": null,
   "metadata": {
    "collapsed": false
   },
   "outputs": [
    {
     "name": "stdout",
     "output_type": "stream",
     "text": [
      "III\n",
      "XII\n",
      "XXVI\n",
      "IV\n",
      "MCMXCIV\n"
     ]
    }
   ],
   "source": [
    "def intToRoman( num: int):\n",
    "    # 罗马数字的符号与对应的整数值的映射\n",
    "    roman_numerals = [\n",
    "        (1000, 'M'), (900, 'CM'), (500, 'D'), (400, 'CD'),\n",
    "        (100, 'C'), (90, 'XC'), (50, 'L'), (40, 'XL'),\n",
    "        (10, 'X'), (9, 'IX'), (5, 'V'), (4, 'IV'),\n",
    "        (1, 'I')\n",
    "    ]\n",
    "\n",
    "    roman = \"\"   # 存放最终的罗马数字结果\n",
    "    \n",
    "    # 遍历罗马数字符号和对应的整数值\n",
    "    for value, symbol in roman_numerals:\n",
    "        # 计算当前符号应该重复的次数\n",
    "        while num >= value:\n",
    "            roman += symbol\n",
    "            num -= value  # 减去相应的数值\n",
    "\n",
    "    return roman\n",
    "\n",
    "print(intToRoman(3))   # 输出 \"III\"\n",
    "print(intToRoman(12))  # 输出 \"XII\"\n",
    "print(intToRoman(26))  # 输出 \"XXVI\"\n",
    "print(intToRoman(4))   # 输出 \"IV\"\n",
    "print(intToRoman(1994)) # 输出 \"MCMXCIV\"   "
   ]
  },
  {
   "cell_type": "markdown",
   "metadata": {
    "collapsed": false
   },
   "source": [
    "## 盛水最多的容器\n",
    "\n",
    "给定 n 个非负整数 a1，a2，...，an，每个数代表坐标中的一个点 (i, ai) 。在坐标内画 n 条垂直线，垂直线 i 的两个端点分别为 (i, ai) 和 (i, 0)。找出其中的两条线，使得它们与 x 轴共同构成的容器可以容纳最多的水。\n",
    "\n",
    "说明：你不能倾斜容器，且 n 的值至少为 2。\n",
    "\n",
    "![](https://ai-studio-static-online.cdn.bcebos.com/8201601c528c46e8af4bab4e65bd8cc4973d1c44f1a24b0da4238fc77a650117)\n",
    "\n",
    "图中垂直线代表输入数组 [1,8,6,2,5,4,8,3,7]。在此情况下，容器能够容纳水（表示为蓝色部分）的最大值为 49。\n",
    "\n",
    "示例:\n",
    "```\n",
    "输入: [1,8,6,2,5,4,8,3,7]\n",
    "输出: 49\n",
    "```"
   ]
  },
  {
   "cell_type": "code",
   "execution_count": null,
   "metadata": {
    "collapsed": false
   },
   "outputs": [
    {
     "name": "stdout",
     "output_type": "stream",
     "text": [
      "49\n"
     ]
    }
   ],
   "source": [
    "from typing import List\n",
    "def maxArea(height: List[int]):\n",
    "    left, right = 0, len(height)-1\n",
    "    max_area = 0\n",
    "    # code goes here \n",
    "    while left <right:\n",
    "        # 计算当前容器的容量\n",
    "        area = min(height[left], height[right]) * (right - left)\n",
    "        # 更新最大容器容量\n",
    "        max_area = max(max_area, area)\n",
    "\n",
    "        # 移动指针\n",
    "        if height[left] < height[right]:\n",
    "            left += 1\n",
    "        else:\n",
    "            right -= 1\n",
    "\n",
    "    return max_area\n",
    "\n",
    "\n",
    "input_num = [1,8,6,2,5,4,8,3,7]\n",
    "print(maxArea(input_num))"
   ]
  },
  {
   "cell_type": "markdown",
   "metadata": {
    "collapsed": false
   },
   "source": [
    "## 矩阵置零\n",
    "\n",
    "\n",
    "给定一个 m * n 的矩阵，如果一个元素为 0，则将其所在行和列的所有元素都设为 0。请使用原地算法。\n",
    "\n",
    "示例 1:\n",
    "```\n",
    "输入: \n",
    "[\n",
    "  [1,1,1],\n",
    "  [1,0,1],\n",
    "  [1,1,1]\n",
    "]\n",
    "输出: \n",
    "[\n",
    "  [1,0,1],\n",
    "  [0,0,0],\n",
    "  [1,0,1]\n",
    "]\n",
    "```\n",
    "示例 2:\n",
    "```\n",
    "输入: \n",
    "[\n",
    "  [0,1,2,0],\n",
    "  [3,4,5,2],\n",
    "  [1,3,1,5]\n",
    "]\n",
    "输出: \n",
    "[\n",
    "  [0,0,0,0],\n",
    "  [0,4,5,0],\n",
    "  [0,3,1,0]\n",
    "]\n",
    "```\n",
    "进阶:\n",
    "\n",
    "* 一个直接的解决方案是使用  O(mn) 的额外空间，但这并不是一个好的解决方案。\n",
    "* 一个简单的改进方案是使用 O(m + n) 的额外空间，但这仍然不是最好的解决方案。\n",
    "* 你能想出一个常数空间的解决方案吗？\n",
    "\n",
    "\n"
   ]
  },
  {
   "cell_type": "code",
   "execution_count": null,
   "metadata": {
    "collapsed": false
   },
   "outputs": [
    {
     "name": "stdout",
     "output_type": "stream",
     "text": [
      "[[0, 1, 1], [1, 0, 1], [1, 0, 1]]\n",
      "[[0 0 0]\n",
      " [0 0 0]\n",
      " [0 0 0]]\n",
      "[[0, 1, 2, 0], [3, 4, 5, 2], [1, 3, 1, 5]]\n",
      "[[0 0 0 0]\n",
      " [0 4 5 0]\n",
      " [0 3 1 0]]\n"
     ]
    }
   ],
   "source": [
    "import numpy as np\r\n",
    "def setZeroes( matrix):\r\n",
    "    # Do not return anything, modify matrix in-place instead.\r\n",
    "    # Code goes here\r\n",
    "    out_matrix = np.copy(matrix)\r\n",
    "    # row_num, col_num = matrix.shape   # 矩阵的行列数\r\n",
    "    row_num = len(matrix)       # 矩阵的行数\r\n",
    "    col_num = len(matrix[0])    # 矩阵的列数\r\n",
    "    # print(row_num, col_num)\r\n",
    "    \r\n",
    "    zero_col = []       # 记录矩阵中0所在的列\r\n",
    "    for i in range(row_num):\r\n",
    "        for j in range(col_num):\r\n",
    "            # print(matrix)\r\n",
    "            if matrix[i][j] == 0:\r\n",
    "                out_matrix[i] = [0]*len(matrix[i])\r\n",
    "                zero_col.append(j)\r\n",
    "    zero_col = set(zero_col)            \r\n",
    "    # print(zero_col)\r\n",
    "\r\n",
    "    # 将0所在的列都设置为0\r\n",
    "    for n in zero_col:     \r\n",
    "        for k in range(row_num):  \r\n",
    "            out_matrix[k][n] = 0\r\n",
    "    return out_matrix\r\n",
    "\r\n",
    "input_num1 = [\r\n",
    "  [0,1,1],\r\n",
    "  [1,0,1],\r\n",
    "  [1,0,1]\r\n",
    "]\r\n",
    "print(input_num1)\r\n",
    "print(setZeroes(input_num1))\r\n",
    "\r\n",
    "input_num2 = [\r\n",
    "  [0,1,2,0],\r\n",
    "  [3,4,5,2],\r\n",
    "  [1,3,1,5]\r\n",
    "]\r\n",
    "print(input_num2)\r\n",
    "print(setZeroes(input_num2))\r\n"
   ]
  },
  {
   "cell_type": "markdown",
   "metadata": {
    "collapsed": false
   },
   "source": [
    "## 文件操作\n",
    "\n",
    "有两个磁盘文件A和B,各存放一行字母,要求把这两个文件中的信息合并(按字母顺序排列), 输出到一个新文件C中"
   ]
  },
  {
   "cell_type": "code",
   "execution_count": null,
   "metadata": {
    "collapsed": false
   },
   "outputs": [
    {
     "name": "stdout",
     "output_type": "stream",
     "text": [
      "排序前avdsmnai\n",
      "aadimnsv\n"
     ]
    }
   ],
   "source": [
    "def combination(file1, file2):\n",
    "    #将字母进行拼接\n",
    "    file3 = file1 + file2\n",
    "    print(f\"排序前{file3}\")\n",
    "    # 进行排序\n",
    "    file3 = sorted(file3)   # 字符分割\n",
    "    file3 = ''.join(file3)  # 将内容进行合并\n",
    "    return file3\n",
    "\n",
    "\n",
    "A = \"avds\"   #{a, v, d, s}\n",
    "B = \"mnai\"   #{m, n, a, i}\n",
    "print(combination(A, B))"
   ]
  },
  {
   "cell_type": "markdown",
   "metadata": {
    "collapsed": false
   },
   "source": [
    "# 更高难度练习:\n",
    "\n",
    "\n",
    "### 一、猜数字\n",
    "经典的猜数字游戏，几乎所有人学编程时都会做。\n",
    "\n",
    "功能描述：随机选择一个三位以内的数字作为答案。用户输入一个数字，程序会提示大了或是小了，直到用户猜中。\n",
    "\n",
    " \n",
    "\n",
    "### 二、FizzBuzz\n",
    "另一道经典编程题。\n",
    "\n",
    "功能描述：遍历并打印0到100，如果数字能被3整除，显示Fizz；如果数字能被5整除，显示Buzz；如果能同时被3和5整除，就显示FizzBuzz。结果应该类似：0,1,2，Fizz，4，Buzz，6……14，FizzBuzz，16……\n",
    "\n",
    " \n",
    "\n",
    "### 三、猜数字的AI\n",
    "和猜数字一样，不过这次是设计一个能猜数字的AI\n",
    "\n",
    "功能描述：用户输入一个单位以内的数字，AI要用最少的次数猜中，并且显示出猜的次数和数字。\n",
    "\n",
    " \n",
    "\n",
    "### 四、整点报时\n",
    "老式挂钟会在整点的报时，响铃的次数和时间相等。我们设计一个在电脑上运行的报时器。\n",
    "\n",
    "功能描述：运行后，在每一个整点长响一声，半个整点短响两声。实现睡眠模式，晚上十二点到早上六点不响铃。\n",
    "\n",
    " \n",
    "\n",
    "### 五、敏感词审查\n",
    "一向痛恨网络审查的你成了某网站的审查员，要求审查网络上违反上头规定的名词。\n",
    "\n",
    "功能描述：要审查的帖子在这个文本文档里，要求将所有的和谐，三个代表，言论自由，64替换为*号。\n",
    "\n",
    " \n",
    "\n",
    "### 六、文字冒险游戏\n",
    "你想做个清新脱俗的文字游戏，只在命令行的黑框里运行。\n",
    "\n",
    "功能描述：尽量参考回合制RPG游戏的模式，游戏剧情自编，要有战斗模式，主角有HP属性，战斗和吃东西会对HP有相应的增减效果。\n",
    "\n",
    " \n",
    "\n",
    "### 七、词频统计\n",
    "你想分析某个英语写作者的写作风格，你想先从他使用词语的频率入手。\n",
    "\n",
    "功能描述：分析这个文本文档里的词频，按照出现频率由高到低排列结果，不区分大小写，过滤掉标点（可以使用正则表达式）。结果类似ok：234，play：122，funny：78\n",
    "\n",
    " \n",
    "\n",
    "### 八、Markdown转换器\n",
    "你一向喜欢在Windows的记事本里写文章，为了能方便的生成网页，你使用Markdown的格式写了篇文章，现在需要一个把Markdown转换成HTML格式的程序。\n",
    "\n",
    "功能描述：将这个文本文档里的内容转换成HTML文档。要尽可能的支持Markdown标签，越多越好。建议使用正则表达式。\n",
    "\n",
    " \n",
    "\n",
    "### 九、邮件轰炸机\n",
    "你的一个朋友生日快到了，你决定搞个恶作剧——用邮件塞满他的邮箱。\n",
    "\n",
    "功能描述：首先去注册十个邮箱，然后用这是个邮箱轮流发送随机生成的邮件内容给你的朋友。调整发送的频率，以免被服务器拒绝。\n",
    "\n",
    " \n",
    "\n",
    "### 十、用邮件控制电脑\n",
    "你的电脑放在宿舍，这时你在教室上课，你又决定搞个恶作剧吓吓装病请假在宿舍玩游戏的室友。\n",
    "\n",
    "功能描述：使用邮件发送特定的命令，让电脑上的程序判断发信方是否为控制邮箱，如果是就执行发送过来的命令。通过不同的方式实现尽可能多的功能。\n",
    "\n",
    " "
   ]
  },
  {
   "cell_type": "markdown",
   "metadata": {
    "collapsed": false
   },
   "source": [
    "一、猜数字\n",
    "经典的猜数字游戏，几乎所有人学编程时都会做。\n",
    "\n",
    "功能描述：随机选择一个三位以内的数字作为答案。用户输入一个数字，程序会提示大了或是小了，直到用户猜中。"
   ]
  },
  {
   "cell_type": "code",
   "execution_count": null,
   "metadata": {
    "collapsed": false
   },
   "outputs": [
    {
     "name": "stdout",
     "output_type": "stream",
     "text": [
      "欢迎来到猜数字游戏！\n",
      "我已经选择了一个 1 到 999 之间的数字，试着猜猜它是多少吧！\n"
     ]
    },
    {
     "ename": "TypeError",
     "evalue": "'int' object is not callable",
     "output_type": "error",
     "traceback": [
      "\u001b[0;31m---------------------------------------------------------------------------\u001b[0m",
      "\u001b[0;31mTypeError\u001b[0m                                 Traceback (most recent call last)",
      "\u001b[0;32m/tmp/ipykernel_97/1457981446.py\u001b[0m in \u001b[0;36m<module>\u001b[0;34m\u001b[0m\n\u001b[1;32m     10\u001b[0m \u001b[0;32mwhile\u001b[0m \u001b[0;32mTrue\u001b[0m\u001b[0;34m:\u001b[0m\u001b[0;34m\u001b[0m\u001b[0;34m\u001b[0m\u001b[0m\n\u001b[1;32m     11\u001b[0m     \u001b[0;31m# 用户输入数字\u001b[0m\u001b[0;34m\u001b[0m\u001b[0;34m\u001b[0m\u001b[0;34m\u001b[0m\u001b[0m\n\u001b[0;32m---> 12\u001b[0;31m     \u001b[0muser_guess\u001b[0m \u001b[0;34m=\u001b[0m \u001b[0mint\u001b[0m\u001b[0;34m(\u001b[0m\u001b[0minput\u001b[0m\u001b[0;34m(\u001b[0m\u001b[0;34m\"请输入你猜的数字:\"\u001b[0m\u001b[0;34m)\u001b[0m\u001b[0;34m)\u001b[0m  \u001b[0;31m# 确保没有覆盖 int 函数\u001b[0m\u001b[0;34m\u001b[0m\u001b[0;34m\u001b[0m\u001b[0m\n\u001b[0m\u001b[1;32m     13\u001b[0m \u001b[0;34m\u001b[0m\u001b[0m\n\u001b[1;32m     14\u001b[0m     \u001b[0;31m# 判断用户输入的数字与答案的关系\u001b[0m\u001b[0;34m\u001b[0m\u001b[0;34m\u001b[0m\u001b[0;34m\u001b[0m\u001b[0m\n",
      "\u001b[0;31mTypeError\u001b[0m: 'int' object is not callable"
     ]
    }
   ],
   "source": [
    "import random\r\n",
    "\r\n",
    "# 生成一个随机的三位数以内的数字（范围 1 到 999）\r\n",
    "answer = random.randint(1, 999)\r\n",
    "\r\n",
    "print(\"欢迎来到猜数字游戏！\")\r\n",
    "print(\"我已经选择了一个 1 到 999 之间的数字，试着猜猜它是多少吧！\")\r\n",
    "\r\n",
    "# 进行猜数字的循环\r\n",
    "while True:\r\n",
    "    # 用户输入数字\r\n",
    "    user_guess = int(input(\"请输入你猜的数字:\"))  # 确保没有覆盖 int 函数\r\n",
    "    \r\n",
    "    # 判断用户输入的数字与答案的关系\r\n",
    "    if user_guess < answer:\r\n",
    "        print(\"太小了！再试试吧。\")\r\n",
    "    elif user_guess > answer:\r\n",
    "        print(\"太大了！再试试吧。\")\r\n",
    "    else:\r\n",
    "        print(f\"恭喜你！猜对了，答案就是 {answer}！\")\r\n",
    "        break  # 猜对了，退出循环\r\n"
   ]
  },
  {
   "cell_type": "markdown",
   "metadata": {
    "collapsed": false
   },
   "source": [
    "二、FizzBuzz\n",
    "另一道经典编程题。\n",
    "\n",
    "功能描述：遍历并打印0到100，如果数字能被3整除，显示Fizz；如果数字能被5整除，显示Buzz；如果能同时被3和5整除，就显示FizzBuzz。结果应该类似：0,1,2，Fizz，4，Buzz，6……14，FizzBuzz，16……"
   ]
  },
  {
   "cell_type": "code",
   "execution_count": null,
   "metadata": {
    "collapsed": false
   },
   "outputs": [
    {
     "name": "stdout",
     "output_type": "stream",
     "text": [
      "FizzBuzz\n",
      "1\n",
      "2\n",
      "Fizz\n",
      "4\n",
      "Buzz\n",
      "Fizz\n",
      "7\n",
      "8\n",
      "Fizz\n",
      "Buzz\n",
      "11\n",
      "Fizz\n",
      "13\n",
      "14\n",
      "FizzBuzz\n"
     ]
    }
   ],
   "source": [
    "for input_num in range(101):\r\n",
    "    if input_num % 3 == 0 and input_num % 5 == 0:\r\n",
    "        print(\"FizzBuzz\")\r\n",
    "    elif input_num % 3 == 0:\r\n",
    "        print(\"Fizz\")    \r\n",
    "    elif input_num % 5 == 0:\r\n",
    "        print(\"Buzz\")  \r\n",
    "    else:\r\n",
    "        print(input_num)  "
   ]
  },
  {
   "cell_type": "markdown",
   "metadata": {
    "collapsed": false
   },
   "source": [
    "三、猜数字的AI\n",
    "和猜数字一样，不过这次是设计一个能猜数字的AI\n",
    "\n",
    "功能描述：用户输入一个单位以内的数字，AI要用最少的次数猜中，并且显示出猜的次数和数字。"
   ]
  },
  {
   "cell_type": "code",
   "execution_count": null,
   "metadata": {
    "collapsed": false
   },
   "outputs": [
    {
     "name": "stdout",
     "output_type": "stream",
     "text": [
      "570\n",
      "当前AI猜测的数字是549\n",
      "输入的数字有点小，请继续猜测！\n",
      "当前AI猜测的数字是774\n",
      "输入的数字有点大，请继续猜测！\n",
      "当前AI猜测的数字是661\n",
      "输入的数字有点大，请继续猜测！\n",
      "当前AI猜测的数字是605\n",
      "输入的数字有点大，请继续猜测！\n",
      "当前AI猜测的数字是577\n",
      "输入的数字有点大，请继续猜测！\n",
      "当前AI猜测的数字是563\n",
      "输入的数字有点小，请继续猜测！\n",
      "当前AI猜测的数字是570\n",
      "恭喜你猜对了，输入的数据就是570!\n",
      "总共猜测7次\n"
     ]
    }
   ],
   "source": [
    "import random\r\n",
    "\r\n",
    "def ai_guess_num(min_value, max_value, answer):\r\n",
    "    low, high = min_value, max_value\r\n",
    "    guess_count = 0\r\n",
    "    \r\n",
    "    # 开始AI猜数字\r\n",
    "    while True:\r\n",
    "        guess = (low+high) // 2\r\n",
    "        print(f\"当前AI猜测的数字是{guess}\")\r\n",
    "        \r\n",
    "        guess_count += 1\r\n",
    "        if guess < answer:\r\n",
    "            print(\"输入的数字有点小，请继续猜测！\")\r\n",
    "            low = guess\r\n",
    "        elif guess > answer:\r\n",
    "            print(\"输入的数字有点大，请继续猜测！\")\r\n",
    "            high = guess\r\n",
    "        else:\r\n",
    "            print(f\"恭喜你猜对了，输入的数据就是{answer}!\")\r\n",
    "            break\r\n",
    "        \r\n",
    "    return guess_count\r\n",
    "\r\n",
    "\r\n",
    "# 生成一个随机的三位数以内的数字（范围 1 到 999）\r\n",
    "answer = random.randint(100, 999)\r\n",
    "print(answer)\r\n",
    "# ai猜数字\r\n",
    "guess_num = ai_guess_num(100, 999, answer)\r\n",
    "print(f\"总共猜测{guess_num}次\")\r\n"
   ]
  },
  {
   "cell_type": "markdown",
   "metadata": {
    "collapsed": false
   },
   "source": [
    "四、整点报时\n",
    "老式挂钟会在整点的报时，响铃的次数和时间相等。我们设计一个在电脑上运行的报时器。\n",
    "\n",
    "功能描述：运行后，在每一个整点长响一声，半个整点短响两声。实现睡眠模式，晚上十二点到早上六点不响铃。"
   ]
  },
  {
   "cell_type": "code",
   "execution_count": null,
   "metadata": {
    "collapsed": false
   },
   "outputs": [
    {
     "name": "stdout",
     "output_type": "stream",
     "text": [
      "报时器启动...\n"
     ]
    },
    {
     "ename": "KeyboardInterrupt",
     "evalue": "",
     "output_type": "error",
     "traceback": [
      "\u001b[0;31m---------------------------------------------------------------------------\u001b[0m",
      "\u001b[0;31mKeyboardInterrupt\u001b[0m                         Traceback (most recent call last)",
      "\u001b[0;32m/tmp/ipykernel_97/4166863730.py\u001b[0m in \u001b[0;36m<module>\u001b[0;34m\u001b[0m\n\u001b[1;32m     35\u001b[0m \u001b[0;32mif\u001b[0m \u001b[0m__name__\u001b[0m \u001b[0;34m==\u001b[0m \u001b[0;34m\"__main__\"\u001b[0m\u001b[0;34m:\u001b[0m\u001b[0;34m\u001b[0m\u001b[0;34m\u001b[0m\u001b[0m\n\u001b[1;32m     36\u001b[0m     \u001b[0mprint\u001b[0m\u001b[0;34m(\u001b[0m\u001b[0;34m\"报时器启动...\"\u001b[0m\u001b[0;34m)\u001b[0m\u001b[0;34m\u001b[0m\u001b[0;34m\u001b[0m\u001b[0m\n\u001b[0;32m---> 37\u001b[0;31m     \u001b[0mhourly_chime\u001b[0m\u001b[0;34m(\u001b[0m\u001b[0;34m)\u001b[0m\u001b[0;34m\u001b[0m\u001b[0;34m\u001b[0m\u001b[0m\n\u001b[0m",
      "\u001b[0;32m/tmp/ipykernel_97/4166863730.py\u001b[0m in \u001b[0;36mhourly_chime\u001b[0;34m()\u001b[0m\n\u001b[1;32m     30\u001b[0m \u001b[0;34m\u001b[0m\u001b[0m\n\u001b[1;32m     31\u001b[0m         \u001b[0;31m# 每隔60秒检查一次\u001b[0m\u001b[0;34m\u001b[0m\u001b[0;34m\u001b[0m\u001b[0;34m\u001b[0m\u001b[0m\n\u001b[0;32m---> 32\u001b[0;31m         \u001b[0mtime\u001b[0m\u001b[0;34m.\u001b[0m\u001b[0msleep\u001b[0m\u001b[0;34m(\u001b[0m\u001b[0;36m60\u001b[0m\u001b[0;34m)\u001b[0m\u001b[0;34m\u001b[0m\u001b[0;34m\u001b[0m\u001b[0m\n\u001b[0m\u001b[1;32m     33\u001b[0m \u001b[0;34m\u001b[0m\u001b[0m\n\u001b[1;32m     34\u001b[0m \u001b[0;31m# 运行报时器\u001b[0m\u001b[0;34m\u001b[0m\u001b[0;34m\u001b[0m\u001b[0;34m\u001b[0m\u001b[0m\n",
      "\u001b[0;31mKeyboardInterrupt\u001b[0m: "
     ]
    }
   ],
   "source": [
    "import time\r\n",
    "from datetime import datetime\r\n",
    "def sound_bell(count, nn):\r\n",
    "    \"\"\" 模拟报时，响铃指定次数 \"\"\"\r\n",
    "    for _ in range(count):\r\n",
    "        print(\"叮铃铃！\", end=' ')\r\n",
    "        time.sleep(0.2*nn)  # 每次铃声之间的间隔\r\n",
    "\r\n",
    "def hourly_chime():\r\n",
    "    \"\"\" 每小时进行报时和半点报时的功能 \"\"\"\r\n",
    "    while True:\r\n",
    "        # 获取当前时间\r\n",
    "        current_time = datetime.now()\r\n",
    "        hour = current_time.hour\r\n",
    "        minute = current_time.minute\r\n",
    "        \r\n",
    "        # 判断是否处于睡眠时间（12:00 AM 到 6:00 AM）\r\n",
    "        if 0 <= hour < 6:\r\n",
    "            print(f\"当前时间 {current_time.strftime('%H:%M')}，在睡眠模式中，暂不响铃。\")\r\n",
    "            time.sleep(60)  # 睡眠时间段每次检查一次\r\n",
    "            continue\r\n",
    "        \r\n",
    "        # 判断整点和半点\r\n",
    "        if minute == 0:  # 整点\r\n",
    "            print(f\"当前时间 {current_time.strftime('%H:%M')}，整点报时：\")\r\n",
    "            sound_bell(hour, 2)  # 整点响铃次数为当前小时数\r\n",
    "        elif minute == 30:  # 半点\r\n",
    "            print(f\"当前时间 {current_time.strftime('%H:%M')}，半点报时：\")\r\n",
    "            sound_bell(2, 1)  # 半点响铃2次\r\n",
    "            \r\n",
    "        # 每隔60秒检查一次\r\n",
    "        time.sleep(60)\r\n",
    "\r\n",
    "# 运行报时器\r\n",
    "if __name__ == \"__main__\":\r\n",
    "    print(\"报时器启动...\")\r\n",
    "    hourly_chime()"
   ]
  },
  {
   "cell_type": "markdown",
   "metadata": {
    "collapsed": false
   },
   "source": [
    "五、敏感词审查\n",
    "一向痛恨网络审查的你成了某网站的审查员，要求审查网络上违反上头规定的名词。\n",
    "\n",
    "功能描述：要审查的帖子在这个文本文档里，要求将所有的和谐，三个代表，言论自由，64替换为*号。"
   ]
  },
  {
   "cell_type": "code",
   "execution_count": null,
   "metadata": {
    "collapsed": false
   },
   "outputs": [
    {
     "name": "stdout",
     "output_type": "stream",
     "text": [
      "我们现在的社会是**美好的，我们应该高举马克思主义中国化旗帜，遵循邓小平理论、****等重要思想。当前社会是提倡自由民主的，我们拥有****、行为自由等，这是社会繁荣昌盛的一个标志。\n"
     ]
    }
   ],
   "source": [
    "import re\r\n",
    "sensitive_words = ['和谐', '三个代表', '言论自由', '64']\r\n",
    "\r\n",
    "# 定义一个函数来处理敏感词替换\r\n",
    "def censor_text(text):\r\n",
    "    for word in sensitive_words:\r\n",
    "        # 使用正则表达式来替换敏感词为*号，保留敏感词长度\r\n",
    "        text = re.sub(word, '*' * len(word), text)\r\n",
    "    return text\r\n",
    "\r\n",
    "in_sents = \"我们现在的社会是和谐美好的，我们应该高举马克思主义中国化旗帜，遵循邓小平理论、三个代表等重要思想。当前社会是提倡自由民主的，我们拥有言论自由、行为自由等，这是社会繁荣昌盛的一个标志。\" \r\n",
    "print(censor_text(in_sents))"
   ]
  },
  {
   "cell_type": "markdown",
   "metadata": {
    "collapsed": false
   },
   "source": [
    "六、文字冒险游戏\n",
    "你想做个清新脱俗的文字游戏，只在命令行的黑框里运行。\n",
    "\n",
    "功能描述：尽量参考回合制RPG游戏的模式，游戏剧情自编，要有战斗模式，主角有HP属性，战斗和吃东西会对HP有相应的增减效果。"
   ]
  },
  {
   "cell_type": "code",
   "execution_count": null,
   "metadata": {
    "collapsed": false
   },
   "outputs": [
    {
     "name": "stdout",
     "output_type": "stream",
     "text": [
      "欢迎来到文字冒险游戏！\n",
      "你是一个勇者，面临着可怕的怪物！\n",
      "你当前的生命值：100, 怪物的生命值：50\n",
      "\n",
      "\n",
      "选择行动：\n",
      "1. 攻击怪物\n",
      "2. 吃药（恢复20点生命）\n",
      "3. 逃跑\n",
      "请输入你的选择（1/2/3）：勇者 攻击了 怪物，造成了 17 点伤害！\n",
      "\n",
      "怪物反击！\n",
      "怪物 攻击了 勇者，造成了 10 点伤害！\n",
      "\n",
      "你当前的生命值：90, 怪物的生命值：33\n",
      "\n",
      "\n",
      "选择行动：\n",
      "1. 攻击怪物\n",
      "2. 吃药（恢复20点生命）\n",
      "3. 逃跑\n",
      "请输入你的选择（1/2/3）：勇者 恢复了 20 点生命值！\n",
      "怪物 攻击了 勇者，造成了 10 点伤害！\n",
      "\n",
      "你当前的生命值：100, 怪物的生命值：33\n",
      "\n",
      "\n",
      "选择行动：\n",
      "1. 攻击怪物\n",
      "2. 吃药（恢复20点生命）\n",
      "3. 逃跑\n",
      "请输入你的选择（1/2/3）：\n",
      "你选择了逃跑，游戏结束。\n",
      "你赢了！\n"
     ]
    }
   ],
   "source": [
    "import random\r\n",
    "import time\r\n",
    "\r\n",
    "# 游戏角色类\r\n",
    "class Character:\r\n",
    "    def __init__(self, name, hp, attack, defense):\r\n",
    "        self.name = name\r\n",
    "        self.hp = hp\r\n",
    "        self.attack = attack\r\n",
    "        self.defense = defense\r\n",
    "    \r\n",
    "    def is_alive(self):\r\n",
    "        return self.hp > 0\r\n",
    "    \r\n",
    "    def take_damage(self, damage):\r\n",
    "        self.hp -= damage\r\n",
    "        if self.hp < 0:\r\n",
    "            self.hp = 0\r\n",
    "\r\n",
    "    def heal(self, amount):\r\n",
    "        self.hp += amount\r\n",
    "        print(f\"{self.name} 恢复了 {amount} 点生命值！\")\r\n",
    "\r\n",
    "    def attack_enemy(self, enemy):\r\n",
    "        damage = self.attack - enemy.defense\r\n",
    "        if damage < 0:\r\n",
    "            damage = 0\r\n",
    "        enemy.take_damage(damage)\r\n",
    "        print(f\"{self.name} 攻击了 {enemy.name}，造成了 {damage} 点伤害！\")\r\n",
    "    \r\n",
    "    def __str__(self):\r\n",
    "        return f\"{self.name} - HP: {self.hp} 攻击: {self.attack} 防御: {self.defense}\"\r\n",
    "\r\n",
    "# 游戏剧情与战斗系统\r\n",
    "def start_game():\r\n",
    "    # 初始化玩家和敌人\r\n",
    "    player = Character(\"勇者\", 100, 20, 5)\r\n",
    "    monster = Character(\"怪物\", 50, 15, 3)\r\n",
    "    \r\n",
    "    print(\"欢迎来到文字冒险游戏！\")\r\n",
    "    print(\"你是一个勇者，面临着可怕的怪物！\")\r\n",
    "    print(f\"你当前的生命值：{player.hp}, 怪物的生命值：{monster.hp}\\n\")\r\n",
    "    \r\n",
    "    while player.is_alive() and monster.is_alive():\r\n",
    "        # 打印角色信息\r\n",
    "        print(\"\\n选择行动：\")\r\n",
    "        print(\"1. 攻击怪物\")\r\n",
    "        print(\"2. 吃药（恢复20点生命）\")\r\n",
    "        print(\"3. 逃跑\")\r\n",
    "        \r\n",
    "        choice = input(\"请输入你的选择（1/2/3）：\")\r\n",
    "        \r\n",
    "        if choice == \"1\":\r\n",
    "            player.attack_enemy(monster)\r\n",
    "            if monster.is_alive():\r\n",
    "                print(f\"\\n怪物反击！\")\r\n",
    "                monster.attack_enemy(player)\r\n",
    "            else:\r\n",
    "                print(f\"\\n{monster.name} 被打败了！\")\r\n",
    "        \r\n",
    "        elif choice == \"2\":\r\n",
    "            player.heal(20)\r\n",
    "            monster.attack_enemy(player)\r\n",
    "        \r\n",
    "        elif choice == \"3\":\r\n",
    "            print(\"\\n你选择了逃跑，游戏结束。\")\r\n",
    "            break\r\n",
    "        \r\n",
    "        else:\r\n",
    "            print(\"\\n无效的选择，请重新选择！\")\r\n",
    "            continue\r\n",
    "        \r\n",
    "        print(f\"\\n你当前的生命值：{player.hp}, 怪物的生命值：{monster.hp}\\n\")\r\n",
    "        time.sleep(1)\r\n",
    "\r\n",
    "    if player.is_alive():\r\n",
    "        print(\"你赢了！\")\r\n",
    "    else:\r\n",
    "        print(\"你被怪物打败了。\")\r\n",
    "\r\n",
    "# 启动游戏\r\n",
    "if __name__ == \"__main__\":\r\n",
    "    start_game()\r\n"
   ]
  },
  {
   "cell_type": "markdown",
   "metadata": {
    "collapsed": false
   },
   "source": [
    "七、词频统计\n",
    "你想分析某个英语写作者的写作风格，你想先从他使用词语的频率入手。\n",
    "\n",
    "功能描述：分析这个文本文档里的词频，按照出现频率由高到低排列结果，不区分大小写，过滤掉标点（可以使用正则表达式）。结果类似ok：234，play：122，funny：78"
   ]
  },
  {
   "cell_type": "code",
   "execution_count": null,
   "metadata": {
    "collapsed": false
   },
   "outputs": [
    {
     "name": "stdout",
     "output_type": "stream",
     "text": [
      "Counter({'s': 2, 'about': 2, 'how': 2, 'things': 2, 'You': 2, 'were': 2, 'to': 2, 'but': 2, 'a': 2, 'know': 2, 'I': 2, 'Ok': 1, 'let': 1, 'talk': 1, 'went': 1, 'down': 1, 'yesterday': 1, 'remember': 1, 'right': 1, 'We': 1, 'supposed': 1, 'meet': 1, 'at': 1, 'the': 1, 'park': 1, 'you': 1, 'running': 1, 'bit': 1, 'late': 1, 'It': 1, 'totally': 1, 'fine': 1, 'though': 1, 'we': 1, 'both': 1, 'can': 1, 'get': 1, 'sometimes': 1, 'was': 1, 'sitting': 1, 'there': 1, 'for': 1, 'while': 1, 'didn': 1, 't': 1, 'mind': 1, 'Actually': 1, 'it': 1, 'gave': 1, 'me': 1, 'some': 1, 'time': 1, 'think': 1, 'stuff': 1, 'life': 1, 'and': 1, 'all': 1, 'that': 1})\n",
      "s: 2\n",
      "about: 2\n",
      "how: 2\n",
      "things: 2\n",
      "You: 2\n",
      "were: 2\n",
      "to: 2\n",
      "but: 2\n",
      "a: 2\n",
      "know: 2\n",
      "I: 2\n",
      "Ok: 1\n",
      "let: 1\n",
      "talk: 1\n",
      "went: 1\n",
      "down: 1\n",
      "yesterday: 1\n",
      "remember: 1\n",
      "right: 1\n",
      "We: 1\n",
      "supposed: 1\n",
      "meet: 1\n",
      "at: 1\n",
      "the: 1\n",
      "park: 1\n",
      "you: 1\n",
      "running: 1\n",
      "bit: 1\n",
      "late: 1\n",
      "It: 1\n",
      "totally: 1\n",
      "fine: 1\n",
      "though: 1\n",
      "we: 1\n",
      "both: 1\n",
      "can: 1\n",
      "get: 1\n",
      "sometimes: 1\n",
      "was: 1\n",
      "sitting: 1\n",
      "there: 1\n",
      "for: 1\n",
      "while: 1\n",
      "didn: 1\n",
      "t: 1\n",
      "mind: 1\n",
      "Actually: 1\n",
      "it: 1\n",
      "gave: 1\n",
      "me: 1\n",
      "some: 1\n",
      "time: 1\n",
      "think: 1\n",
      "stuff: 1\n",
      "life: 1\n",
      "and: 1\n",
      "all: 1\n",
      "that: 1\n"
     ]
    }
   ],
   "source": [
    "import re\r\n",
    "from collections import Counter\r\n",
    "def word_frequency_analysis(texts):\r\n",
    "    # 去掉标点符号，只保留单词\r\n",
    "    words = re.findall(r'\\b\\w+\\b', texts)\r\n",
    "    # 单词频率统计\r\n",
    "    word_counts = Counter(words)\r\n",
    "\r\n",
    "    # 按照词频从高到低排序\r\n",
    "    sorted_word_counts = word_counts.most_common()\r\n",
    "\r\n",
    "    # 输出结果\r\n",
    "    for word, count in sorted_word_counts:\r\n",
    "        print(f'{word}: {count}')\r\n",
    "\r\n",
    "\r\n",
    "\r\n",
    "in_sents =\"\"\"Ok, let’s talk about how things went down yesterday. You remember, right? We were supposed to meet at the park, but you were running a bit late. It’s totally fine, though, we both know how things can get sometimes. I was sitting there for a while, but I didn’t mind. ...\r\n",
    " Actually, it gave me some time to think about stuff. You know, life and all that.\"\"\" #\r\n",
    " # When you finally showed up, we had a quick chat about the project we’re working on. Honestly, I think it’s going well so far. We’re both putting in the effort, and that’s all that matters. You’re doing great with your part, and I’ve been trying to make sure we stay on track. It’s not always easy, but we’re managing, and that’s what counts.\r\n",
    "# I know there are moments when things feel a bit overwhelming, but that’s normal. I just want you to know that I’m here for you. If you ever need someone to talk to or bounce ideas off of, you can always count on me. We’ve been through a lot together, and I think we’re stronger because of it. So, don’t stress too much. We’ve got this.\r\n",
    "#And by the way, I think we should do something fun soon—like grab a coffee or catch a movie. It’ll be a nice break from all the work. What do you think? Sounds good? Ok, well, let me know when you’re free, and we can make it happen.\"\"\"\r\n",
    "# 统计结果\r\n",
    "word_frequency_analysis(in_sents)"
   ]
  },
  {
   "cell_type": "markdown",
   "metadata": {
    "collapsed": false
   },
   "source": [
    "八、Markdown转换器\n",
    "你一向喜欢在Windows的记事本里写文章，为了能方便的生成网页，你使用Markdown的格式写了篇文章，现在需要一个把Markdown转换成HTML格式的程序。\n",
    "\n",
    "功能描述：将这个文本文档里的内容转换成HTML文档。要尽可能的支持Markdown标签，越多越好。建议使用正则表达式。"
   ]
  },
  {
   "cell_type": "code",
   "execution_count": null,
   "metadata": {
    "collapsed": false
   },
   "outputs": [
    {
     "name": "stdout",
     "output_type": "stream",
     "text": [
      "\n",
      "<p>    # 这是一个标题</p>\n",
      "<p>    这是普通段落，<strong>加粗</strong>和<em>斜体</em>。</p>\n",
      "\n",
      "<p>    ## 二级标题</p>\n",
      "<p>    这里是二级标题下的段落。</p>\n",
      "\n",
      "<p>    ### 无序列表</p>\n",
      "<p>    - 项目1</p>\n",
      "<p>    - 项目2</p>\n",
      "\n",
      "<p>    ### 有序列表</p>\n",
      "<p>    1. 第一项</p>\n",
      "<p>    2. 第二项</p>\n",
      "\n",
      "<p>    ### 链接</p>\n",
      "<p>    <a href=\"https://www.google.com\">Google</a></p>\n",
      "\n",
      "<p>    ### 图片</p>\n",
      "<p>    !<a href=\"https://example.com/image.png\">示例图片</a></p>\n",
      "\n",
      "<p>    ### 代码块</p>\n",
      "<p>    ``<code>python</p>\n",
      "<p>    print(\"Hello, World!\")</p>\n",
      "<p>    </code>``</p>\n",
      "<p>    </p>\n"
     ]
    }
   ],
   "source": [
    "import re\r\n",
    "\r\n",
    "def markdown_to_html(markdown_text):\r\n",
    "    # 处理标题：# 或 ## 或 ### 等\r\n",
    "    markdown_text = re.sub(r'^(#)(.*?)$', r'<h1>\\2</h1>', markdown_text, flags=re.MULTILINE)  # 处理h1\r\n",
    "    markdown_text = re.sub(r'^(##)(.*?)$', r'<h2>\\2</h2>', markdown_text, flags=re.MULTILINE)  # 处理h2\r\n",
    "    markdown_text = re.sub(r'^(###)(.*?)$', r'<h3>\\2</h3>', markdown_text, flags=re.MULTILINE)  # 处理h3\r\n",
    "    markdown_text = re.sub(r'^(####)(.*?)$', r'<h4>\\2</h4>', markdown_text, flags=re.MULTILINE)  # 处理h4\r\n",
    "    markdown_text = re.sub(r'^(#####)(.*?)$', r'<h5>\\2</h5>', markdown_text, flags=re.MULTILINE)  # 处理h5\r\n",
    "    markdown_text = re.sub(r'^(######)(.*?)$', r'<h6>\\2</h6>', markdown_text, flags=re.MULTILINE)  # 处理h6\r\n",
    "\r\n",
    "    # 处理加粗：**加粗文本** 或 __加粗文本__\r\n",
    "    markdown_text = re.sub(r'(\\*\\*|__)(.*?)\\1', r'<strong>\\2</strong>', markdown_text)\r\n",
    "\r\n",
    "    # 处理斜体：*斜体文本* 或 _斜体文本_\r\n",
    "    markdown_text = re.sub(r'(\\*|_)(.*?)\\1', r'<em>\\2</em>', markdown_text)\r\n",
    "\r\n",
    "    # 处理无序列表：- 或 * 或 + 开头\r\n",
    "    markdown_text = re.sub(r'^[\\*\\+\\-]\\s+(.*)', r'<ul><li>\\1</li></ul>', markdown_text, flags=re.MULTILINE)\r\n",
    "    \r\n",
    "    # 处理有序列表：数字. 开头\r\n",
    "    markdown_text = re.sub(r'^\\d+\\.\\s+(.*)', r'<ol><li>\\1</li></ol>', markdown_text, flags=re.MULTILINE)\r\n",
    "\r\n",
    "    # 处理链接：[链接文本](url)\r\n",
    "    markdown_text = re.sub(r'\\[([^\\]]+)\\]\\(([^)]+)\\)', r'<a href=\"\\2\">\\1</a>', markdown_text)\r\n",
    "\r\n",
    "    # 处理图片：![图片文本](url)\r\n",
    "    markdown_text = re.sub(r'!\\[([^\\]]*)\\]\\(([^)]+)\\)', r'<img src=\"\\2\" alt=\"\\1\">', markdown_text)\r\n",
    "\r\n",
    "    # 处理代码：`代码`\r\n",
    "    markdown_text = re.sub(r'`([^`]+)`', r'<code>\\1</code>', markdown_text)\r\n",
    "\r\n",
    "    # 处理块级代码：```代码块```\r\n",
    "    markdown_text = re.sub(r'```(.*?)```', r'<pre><code>\\1</code></pre>', markdown_text, flags=re.DOTALL)\r\n",
    "\r\n",
    "    # 处理段落换行：两个空格后换行\r\n",
    "    markdown_text = re.sub(r'  \\n', r'<br>', markdown_text)\r\n",
    "\r\n",
    "    # 处理普通文本的段落（这里默认每一行的文本都按段落处理）\r\n",
    "    markdown_text = re.sub(r'([^\\n]+)', r'<p>\\1</p>', markdown_text)\r\n",
    "\r\n",
    "    # 返回转换后的HTML文本\r\n",
    "    return markdown_text\r\n",
    "\r\n",
    "# 示例：将Markdown文本转换为HTML\r\n",
    "if __name__ == \"__main__\":\r\n",
    "    markdown_text = \"\"\"\r\n",
    "    # 这是一个标题\r\n",
    "    这是普通段落，**加粗**和*斜体*。\r\n",
    "\r\n",
    "    ## 二级标题\r\n",
    "    这里是二级标题下的段落。\r\n",
    "\r\n",
    "    ### 无序列表\r\n",
    "    - 项目1\r\n",
    "    - 项目2\r\n",
    "\r\n",
    "    ### 有序列表\r\n",
    "    1. 第一项\r\n",
    "    2. 第二项\r\n",
    "\r\n",
    "    ### 链接\r\n",
    "    [Google](https://www.google.com)\r\n",
    "\r\n",
    "    ### 图片\r\n",
    "    ![示例图片](https://example.com/image.png)\r\n",
    "\r\n",
    "    ### 代码块\r\n",
    "    ```python\r\n",
    "    print(\"Hello, World!\")\r\n",
    "    ```\r\n",
    "    \"\"\"\r\n",
    "\r\n",
    "    html_text = markdown_to_html(markdown_text)\r\n",
    "    print(html_text)\r\n"
   ]
  },
  {
   "cell_type": "markdown",
   "metadata": {
    "collapsed": false
   },
   "source": [
    "九、邮件轰炸机\n",
    "你的一个朋友生日快到了，你决定搞个恶作剧——用邮件塞满他的邮箱。\n",
    "功能描述：首先去注册十个邮箱，然后用这是个邮箱轮流发送随机生成的邮件内容给你的朋友。调整发送的频率，以免被服务器拒绝。\n",
    "\n",
    "暂未成功"
   ]
  },
  {
   "cell_type": "code",
   "execution_count": null,
   "metadata": {
    "collapsed": false
   },
   "outputs": [
    {
     "ename": "ModuleNotFoundError",
     "evalue": "No module named 'faker'",
     "output_type": "error",
     "traceback": [
      "\u001b[0;31m---------------------------------------------------------------------------\u001b[0m",
      "\u001b[0;31mModuleNotFoundError\u001b[0m                       Traceback (most recent call last)",
      "\u001b[0;32m/tmp/ipykernel_97/1029287956.py\u001b[0m in \u001b[0;36m<module>\u001b[0;34m\u001b[0m\n\u001b[1;32m      4\u001b[0m \u001b[0;32mfrom\u001b[0m \u001b[0memail\u001b[0m\u001b[0;34m.\u001b[0m\u001b[0mmime\u001b[0m\u001b[0;34m.\u001b[0m\u001b[0mtext\u001b[0m \u001b[0;32mimport\u001b[0m \u001b[0mMIMEText\u001b[0m\u001b[0;34m\u001b[0m\u001b[0;34m\u001b[0m\u001b[0m\n\u001b[1;32m      5\u001b[0m \u001b[0;32mfrom\u001b[0m \u001b[0memail\u001b[0m\u001b[0;34m.\u001b[0m\u001b[0mmime\u001b[0m\u001b[0;34m.\u001b[0m\u001b[0mmultipart\u001b[0m \u001b[0;32mimport\u001b[0m \u001b[0mMIMEMultipart\u001b[0m\u001b[0;34m\u001b[0m\u001b[0;34m\u001b[0m\u001b[0m\n\u001b[0;32m----> 6\u001b[0;31m \u001b[0;32mfrom\u001b[0m \u001b[0mfaker\u001b[0m \u001b[0;32mimport\u001b[0m \u001b[0mFaker\u001b[0m\u001b[0;34m\u001b[0m\u001b[0;34m\u001b[0m\u001b[0m\n\u001b[0m\u001b[1;32m      7\u001b[0m \u001b[0;34m\u001b[0m\u001b[0m\n\u001b[1;32m      8\u001b[0m \u001b[0;31m# 创建Faker实例来生成随机文本\u001b[0m\u001b[0;34m\u001b[0m\u001b[0;34m\u001b[0m\u001b[0;34m\u001b[0m\u001b[0m\n",
      "\u001b[0;31mModuleNotFoundError\u001b[0m: No module named 'faker'"
     ]
    }
   ],
   "source": [
    "import smtplib\r\n",
    "import time\r\n",
    "import random\r\n",
    "from email.mime.text import MIMEText\r\n",
    "from email.mime.multipart import MIMEMultipart\r\n",
    "from faker import Faker\r\n",
    "\r\n",
    "# 创建Faker实例来生成随机文本\r\n",
    "fake = Faker()\r\n",
    "\r\n",
    "# 邮箱和密码列表（假设你已经有了这些邮箱账户的凭据）\r\n",
    "email_accounts = [\r\n",
    "    (\"email1@example.com\", \"password1\"),\r\n",
    "    (\"email2@example.com\", \"password2\"),\r\n",
    "    (\"email3@example.com\", \"password3\"),\r\n",
    "    (\"email4@example.com\", \"password4\"),\r\n",
    "    (\"email5@example.com\", \"password5\"),\r\n",
    "    (\"email6@example.com\", \"password6\"),\r\n",
    "    (\"email7@example.com\", \"password7\"),\r\n",
    "    (\"email8@example.com\", \"password8\"),\r\n",
    "    (\"email9@example.com\", \"password9\"),\r\n",
    "    (\"email10@example.com\", \"password10\")\r\n",
    "]\r\n",
    "\r\n",
    "# 收件人邮箱（假设你的朋友的邮箱）\r\n",
    "friend_email = \"friend@example.com\"\r\n",
    "\r\n",
    "# 发送邮件的SMTP服务器（例如Gmail的SMTP服务器）\r\n",
    "smtp_server = \"smtp.example.com\"\r\n",
    "smtp_port = 587\r\n",
    "\r\n",
    "# 设置发送间隔（秒）\r\n",
    "send_interval = 5  # 每5秒发送一次邮件\r\n",
    "\r\n",
    "def create_random_email_content():\r\n",
    "    \"\"\"生成随机邮件内容\"\"\"\r\n",
    "    subject = fake.sentence()  # 随机生成一个句子作为邮件主题\r\n",
    "    body = fake.text()  # 随机生成一段文本作为邮件正文\r\n",
    "    return subject, body\r\n",
    "\r\n",
    "def send_email(from_email, from_password, to_email, subject, body):\r\n",
    "    \"\"\"发送邮件\"\"\"\r\n",
    "    try:\r\n",
    "        # 连接到SMTP服务器\r\n",
    "        server = smtplib.SMTP(smtp_server, smtp_port)\r\n",
    "        server.starttls()  # 启用TLS加密\r\n",
    "        server.login(from_email, from_password)  # 登录SMTP服务器\r\n",
    "\r\n",
    "        # 创建邮件内容\r\n",
    "        msg = MIMEMultipart()\r\n",
    "        msg['From'] = from_email\r\n",
    "        msg['To'] = to_email\r\n",
    "        msg['Subject'] = subject\r\n",
    "        msg.attach(MIMEText(body, 'plain'))\r\n",
    "\r\n",
    "        # 发送邮件\r\n",
    "        server.sendmail(from_email, to_email, msg.as_string())\r\n",
    "\r\n",
    "        print(f\"邮件发送成功: {from_email} -> {to_email}\")\r\n",
    "\r\n",
    "    except Exception as e:\r\n",
    "        print(f\"发送邮件失败: {from_email} -> {to_email}, 错误: {e}\")\r\n",
    "    finally:\r\n",
    "        server.quit()\r\n",
    "\r\n",
    "def main():\r\n",
    "    email_counter = 0\r\n",
    "    while True:\r\n",
    "        # 轮流使用邮箱账户发送邮件\r\n",
    "        from_email, from_password = email_accounts[email_counter]\r\n",
    "        \r\n",
    "        # 生成随机邮件内容\r\n",
    "        subject, body = create_random_email_content()\r\n",
    "\r\n",
    "        # 发送邮件\r\n",
    "        send_email(from_email, from_password, friend_email, subject, body)\r\n",
    "\r\n",
    "        # 更新邮箱计数器，确保轮流使用不同邮箱\r\n",
    "        email_counter = (email_counter + 1) % len(email_accounts)\r\n",
    "\r\n",
    "        # 等待一段时间再发送下一封邮件\r\n",
    "        time.sleep(send_interval)\r\n",
    "\r\n",
    "if __name__ == \"__main__\":\r\n",
    "    main()\r\n"
   ]
  },
  {
   "cell_type": "markdown",
   "metadata": {
    "collapsed": false
   },
   "source": [
    "十、用邮件控制电脑\n",
    "你的电脑放在宿舍，这时你在教室上课，你又决定搞个恶作剧吓吓装病请假在宿舍玩游戏的室友。\n",
    "功能描述：使用邮件发送特定的命令，让电脑上的程序判断发信方是否为控制邮箱，如果是就执行发送过来的命令。通过不同的方式实现尽可能多的功能。\n",
    "\n",
    "\n",
    "这个效果还不清楚-暂未成功"
   ]
  },
  {
   "cell_type": "code",
   "execution_count": null,
   "metadata": {
    "collapsed": false
   },
   "outputs": [
    {
     "name": "stdout",
     "output_type": "stream",
     "text": [
      "检查新邮件...\n",
      "检查邮件时出错: [Errno -2] Name or service not known\n",
      "检查新邮件...\n",
      "检查邮件时出错: [Errno -2] Name or service not known\n"
     ]
    },
    {
     "ename": "KeyboardInterrupt",
     "evalue": "",
     "output_type": "error",
     "traceback": [
      "\u001b[0;31m---------------------------------------------------------------------------\u001b[0m",
      "\u001b[0;31mKeyboardInterrupt\u001b[0m                         Traceback (most recent call last)",
      "\u001b[0;32m/tmp/ipykernel_97/2430323040.py\u001b[0m in \u001b[0;36m<module>\u001b[0;34m\u001b[0m\n\u001b[1;32m    126\u001b[0m \u001b[0;34m\u001b[0m\u001b[0m\n\u001b[1;32m    127\u001b[0m \u001b[0;32mif\u001b[0m \u001b[0m__name__\u001b[0m \u001b[0;34m==\u001b[0m \u001b[0;34m\"__main__\"\u001b[0m\u001b[0;34m:\u001b[0m\u001b[0;34m\u001b[0m\u001b[0;34m\u001b[0m\u001b[0m\n\u001b[0;32m--> 128\u001b[0;31m     \u001b[0mmain\u001b[0m\u001b[0;34m(\u001b[0m\u001b[0;34m)\u001b[0m\u001b[0;34m\u001b[0m\u001b[0;34m\u001b[0m\u001b[0m\n\u001b[0m",
      "\u001b[0;32m/tmp/ipykernel_97/2430323040.py\u001b[0m in \u001b[0;36mmain\u001b[0;34m()\u001b[0m\n\u001b[1;32m    123\u001b[0m \u001b[0;34m\u001b[0m\u001b[0m\n\u001b[1;32m    124\u001b[0m         \u001b[0;31m# 每隔一定时间检查一次\u001b[0m\u001b[0;34m\u001b[0m\u001b[0;34m\u001b[0m\u001b[0;34m\u001b[0m\u001b[0m\n\u001b[0;32m--> 125\u001b[0;31m         \u001b[0mtime\u001b[0m\u001b[0;34m.\u001b[0m\u001b[0msleep\u001b[0m\u001b[0;34m(\u001b[0m\u001b[0;36m60\u001b[0m\u001b[0;34m)\u001b[0m  \u001b[0;31m# 每60秒检查一次新邮件\u001b[0m\u001b[0;34m\u001b[0m\u001b[0;34m\u001b[0m\u001b[0m\n\u001b[0m\u001b[1;32m    126\u001b[0m \u001b[0;34m\u001b[0m\u001b[0m\n\u001b[1;32m    127\u001b[0m \u001b[0;32mif\u001b[0m \u001b[0m__name__\u001b[0m \u001b[0;34m==\u001b[0m \u001b[0;34m\"__main__\"\u001b[0m\u001b[0;34m:\u001b[0m\u001b[0;34m\u001b[0m\u001b[0;34m\u001b[0m\u001b[0m\n",
      "\u001b[0;31mKeyboardInterrupt\u001b[0m: "
     ]
    }
   ],
   "source": [
    "# 设置和导入依赖\r\n",
    "import imaplib\r\n",
    "import email\r\n",
    "from email.header import decode_header\r\n",
    "import subprocess\r\n",
    "import time\r\n",
    "import smtplib\r\n",
    "from email.mime.text import MIMEText\r\n",
    "from email.mime.multipart import MIMEMultipart\r\n",
    "\r\n",
    "# 控制邮箱的配置\r\n",
    "control_email = \"control@example.com\"  # 控制邮箱\r\n",
    "control_password = \"your_control_email_password\"  # 控制邮箱的密码\r\n",
    "imap_server = \"imap.example.com\"  # IMAP服务器\r\n",
    "smtp_server = \"smtp.example.com\"  # SMTP服务器\r\n",
    "smtp_port = 587  # SMTP端口\r\n",
    "send_email = \"send@example.com\"  # 用于发送确认邮件的邮箱\r\n",
    "send_password = \"your_send_email_password\"  # 发送确认邮件的邮箱密码\r\n",
    "\r\n",
    "# 定义允许的命令列表\r\n",
    "allowed_commands = [\"shutdown\", \"restart\", \"date\", \"uptime\"]\r\n",
    "\r\n",
    "# 用来发送邮件的函数\r\n",
    "def send_confirmation_email(subject, body):\r\n",
    "    msg = MIMEMultipart()\r\n",
    "    msg['From'] = send_email\r\n",
    "    msg['To'] = control_email\r\n",
    "    msg['Subject'] = subject\r\n",
    "    msg.attach(MIMEText(body, 'plain'))\r\n",
    "    \r\n",
    "    try:\r\n",
    "        with smtplib.SMTP(smtp_server, smtp_port) as server:\r\n",
    "            server.starttls()  # 启用TLS加密\r\n",
    "            server.login(send_email, send_password)  # 登录\r\n",
    "            server.sendmail(send_email, control_email, msg.as_string())  # 发送邮件\r\n",
    "            print(\"确认邮件发送成功\")\r\n",
    "    except Exception as e:\r\n",
    "        print(f\"发送邮件失败: {e}\")\r\n",
    "\r\n",
    "\r\n",
    "\r\n",
    "#2. 连接IMAP服务器并检查新邮件\r\n",
    "#使用IMAP协议连接邮箱，检查是否有新邮件。\r\n",
    "def check_new_email():\r\n",
    "    try:\r\n",
    "        # 连接到IMAP服务器\r\n",
    "        mail = imaplib.IMAP4_SSL(imap_server)\r\n",
    "        mail.login(control_email, control_password)  # 登录控制邮箱\r\n",
    "        mail.select('inbox')  # 选择收件箱\r\n",
    "        \r\n",
    "        # 搜索所有未读邮件\r\n",
    "        status, messages = mail.search(None, '(UNSEEN)')\r\n",
    "        \r\n",
    "        if status != \"OK\":\r\n",
    "            print(\"没有新邮件\")\r\n",
    "            return None\r\n",
    "        \r\n",
    "        # 获取邮件ID\r\n",
    "        email_ids = messages[0].split()\r\n",
    "        \r\n",
    "        # 获取最新的一封邮件\r\n",
    "        latest_email_id = email_ids[-1]\r\n",
    "        \r\n",
    "        # 获取邮件数据\r\n",
    "        status, msg_data = mail.fetch(latest_email_id, '(RFC822)')\r\n",
    "        \r\n",
    "        for response_part in msg_data:\r\n",
    "            if isinstance(response_part, tuple):\r\n",
    "                # 解析邮件\r\n",
    "                msg = email.message_from_bytes(response_part[1])\r\n",
    "                subject, encoding = decode_header(msg['Subject'])[0]\r\n",
    "                if isinstance(subject, bytes):\r\n",
    "                    subject = subject.decode(encoding or 'utf-8')\r\n",
    "                from_ = msg.get('From')\r\n",
    "                \r\n",
    "                print(f\"收到来自{from_}的邮件，主题：{subject}\")\r\n",
    "                \r\n",
    "                # 只处理控制邮箱发送的邮件\r\n",
    "                if control_email in from_:\r\n",
    "                    return subject, msg.get_payload(decode=True).decode('utf-8')  # 返回主题和邮件正文\r\n",
    "    except Exception as e:\r\n",
    "        print(f\"检查邮件时出错: {e}\")\r\n",
    "    return None\r\n",
    "\r\n",
    "\r\n",
    "# 3. 执行命令并验证安全性\r\n",
    "# 从邮件正文中提取命令并执行。命令列表可以根据需求扩展。需要对命令进行验证，避免执行不安全的命令。\r\n",
    "def execute_command(command):\r\n",
    "    if command in allowed_commands:\r\n",
    "        if command == \"shutdown\":\r\n",
    "            print(\"执行关机命令\")\r\n",
    "            subprocess.run([\"shutdown\", \"/s\", \"/f\", \"/t\", \"0\"])  # 关机命令\r\n",
    "        elif command == \"restart\":\r\n",
    "            print(\"执行重启命令\")\r\n",
    "            subprocess.run([\"shutdown\", \"/r\", \"/f\", \"/t\", \"0\"])  # 重启命令\r\n",
    "        elif command == \"date\":\r\n",
    "            print(\"执行查看日期命令\")\r\n",
    "            subprocess.run([\"date\"])  # 显示当前日期\r\n",
    "        elif command == \"uptime\":\r\n",
    "            print(\"执行查看系统运行时间命令\")\r\n",
    "            subprocess.run([\"uptime\"])  # 显示系统运行时间\r\n",
    "        else:\r\n",
    "            print(\"命令不在允许的列表中\")\r\n",
    "    else:\r\n",
    "        print(\"命令不在允许的命令列表中\")\r\n",
    "\r\n",
    "\r\n",
    "#4. 定期检查邮件并执行命令\r\n",
    "#现在，你可以将所有功能结合起来，定期检查邮件并执行命令。\r\n",
    "def main():\r\n",
    "    while True:\r\n",
    "        print(\"检查新邮件...\")\r\n",
    "        result = check_new_email()\r\n",
    "        if result:\r\n",
    "            subject, body = result\r\n",
    "            print(f\"命令: {body}\")\r\n",
    "            \r\n",
    "            # 执行命令\r\n",
    "            execute_command(body.strip())\r\n",
    "            \r\n",
    "            # 发送确认邮件\r\n",
    "            send_confirmation_email(\"命令执行确认\", f\"收到并执行了命令：{body.strip()}\")\r\n",
    "        \r\n",
    "        # 每隔一定时间检查一次\r\n",
    "        time.sleep(60)  # 每60秒检查一次新邮件\r\n",
    "\r\n",
    "if __name__ == \"__main__\":\r\n",
    "    main()\r\n"
   ]
  }
 ],
 "metadata": {
  "kernelspec": {
   "display_name": "Python 3",
   "language": "python",
   "name": "py35-paddle1.2.0"
  },
  "language_info": {
   "codemirror_mode": {
    "name": "ipython",
    "version": 3
   },
   "file_extension": ".py",
   "mimetype": "text/x-python",
   "name": "python",
   "nbconvert_exporter": "python",
   "pygments_lexer": "ipython3",
   "version": "3.7.4"
  }
 },
 "nbformat": 4,
 "nbformat_minor": 1
}
